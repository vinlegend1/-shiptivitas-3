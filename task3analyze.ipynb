{
  "nbformat": 4,
  "nbformat_minor": 0,
  "metadata": {
    "colab": {
      "name": "task3analyze.ipynb",
      "provenance": []
    },
    "kernelspec": {
      "name": "python3",
      "display_name": "Python 3"
    }
  },
  "cells": [
    {
      "cell_type": "code",
      "metadata": {
        "id": "q0g1gh3ieAl9",
        "colab_type": "code",
        "colab": {}
      },
      "source": [
        "import sqlite3\n",
        "import numpy as np\n",
        "import matplotlib.pyplot as plt\n"
      ],
      "execution_count": 6,
      "outputs": []
    },
    {
      "cell_type": "code",
      "metadata": {
        "id": "TC5jtWzPeerM",
        "colab_type": "code",
        "colab": {}
      },
      "source": [
        "conn = sqlite3.connect('shiptivity.db')"
      ],
      "execution_count": 2,
      "outputs": []
    },
    {
      "cell_type": "code",
      "metadata": {
        "id": "eW0uJlliek6q",
        "colab_type": "code",
        "colab": {}
      },
      "source": [
        "c = conn.cursor()"
      ],
      "execution_count": 3,
      "outputs": []
    },
    {
      "cell_type": "code",
      "metadata": {
        "id": "HiLpgWqxelIp",
        "colab_type": "code",
        "colab": {}
      },
      "source": [
        "c.execute(\"SELECT * from user\")\n",
        "\n",
        "user_list = c.fetchall()\n",
        "\n",
        "conn.commit()\n",
        "\n",
        "c.execute(\"SELECT * from login_history\")\n",
        "\n",
        "login_history_list = c.fetchall()\n",
        "\n",
        "conn.commit()\n",
        "\n",
        "c.execute(\"SELECT * from card\")\n",
        "\n",
        "card_list = c.fetchall()\n",
        "\n",
        "conn.commit()\n",
        "\n",
        "c.execute(\"SELECT * from card_change_history\")\n",
        "\n",
        "card_change_history_list = c.fetchall()\n",
        "\n",
        "conn.commit()\n",
        "\n",
        "\n",
        "conn.close()"
      ],
      "execution_count": 4,
      "outputs": []
    },
    {
      "cell_type": "code",
      "metadata": {
        "id": "sw_sksCFelT6",
        "colab_type": "code",
        "colab": {}
      },
      "source": [
        "user_arr = np.array(user_list)\n",
        "login_history_arr = np.array(login_history_list)\n",
        "card_arr = np.array(card_list)\n",
        "card_change_history_arr = np.array(card_change_history_list)"
      ],
      "execution_count": 7,
      "outputs": []
    },
    {
      "cell_type": "code",
      "metadata": {
        "id": "oB7-DCYgelWq",
        "colab_type": "code",
        "colab": {
          "base_uri": "https://localhost:8080/",
          "height": 51
        },
        "outputId": "fbc08c06-879e-4fe9-ac91-f69db631d284"
      },
      "source": [
        "unix_time_arr = login_history_arr[:, 2]\n",
        "print(unix_time_arr)\n",
        "print(np.min(unix_time_arr))"
      ],
      "execution_count": 35,
      "outputs": [
        {
          "output_type": "stream",
          "text": [
            "[1517667588 1517828610 1518062400 ... 1549058099 1549061446 1549065472]\n",
            "1517667588\n"
          ],
          "name": "stdout"
        }
      ]
    },
    {
      "cell_type": "code",
      "metadata": {
        "id": "eBUGB56-elZm",
        "colab_type": "code",
        "colab": {
          "base_uri": "https://localhost:8080/",
          "height": 295
        },
        "outputId": "1853a33c-cf97-4642-85d0-b02ef2d3c3b3"
      },
      "source": [
        "plt.hist(unix_time_arr, bins=363)\n",
        "plt.xlabel('Date in Unix')\n",
        "plt.ylabel('# of users logged in')\n",
        "plt.title('Daily # of User')\n",
        "plt.show()"
      ],
      "execution_count": 33,
      "outputs": [
        {
          "output_type": "display_data",
          "data": {
            "image/png": "[encoded data removed]",
            "text/plain": [
              "<Figure size 432x288 with 1 Axes>"
            ]
          },
          "metadata": {
            "tags": [],
            "needs_background": "light"
          }
        }
      ]
    },
    {
      "cell_type": "code",
      "metadata": {
        "id": "xKAyDENFelcO",
        "colab_type": "code",
        "colab": {
          "base_uri": "https://localhost:8080/",
          "height": 295
        },
        "outputId": "c39ee7d7-4be2-4d26-94ef-c85a469673e8"
      },
      "source": [
        "card_change_history_unix_arr = card_change_history_arr[:, 6]\n",
        "plt.hist(card_change_history_unix_arr, bins=363)\n",
        "plt.xlabel('Date in Unix')\n",
        "plt.ylabel('# of status change per card')\n",
        "plt.title('number of status changes by card')\n",
        "plt.show()"
      ],
      "execution_count": 42,
      "outputs": [
        {
          "output_type": "display_data",
          "data": {
            "image/png": "[encoded data removed]",
            "text/plain": [
              "<Figure size 432x288 with 1 Axes>"
            ]
          },
          "metadata": {
            "tags": [],
            "needs_background": "light"
          }
        }
      ]
    }
  ]
}